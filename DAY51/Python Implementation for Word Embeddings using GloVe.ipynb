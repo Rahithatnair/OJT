{
 "cells": [
  {
   "cell_type": "markdown",
   "metadata": {},
   "source": [
    "###  Python Implementation of Word Embeddings using GloVe"
   ]
  },
  {
   "cell_type": "code",
   "execution_count": 1,
   "metadata": {},
   "outputs": [],
   "source": [
    "import gensim.downloader as api"
   ]
  },
  {
   "cell_type": "code",
   "execution_count": 2,
   "metadata": {},
   "outputs": [
    {
     "name": "stdout",
     "output_type": "stream",
     "text": [
      "Dimensions of 50d GloVe vector: 50\n"
     ]
    }
   ],
   "source": [
    "# Load the pre-trained GloVe model with 50 dimensions\n",
    "glove_vectors_50d = api.load(\"glove-wiki-gigaword-50\")\n",
    "print(\"Dimensions of 50d GloVe vector:\", len(glove_vectors_50d['language']))"
   ]
  },
  {
   "cell_type": "code",
   "execution_count": 3,
   "metadata": {},
   "outputs": [
    {
     "name": "stdout",
     "output_type": "stream",
     "text": [
      "Dimensions of 100d GloVe vector: 100\n"
     ]
    }
   ],
   "source": [
    "# Load the pre-trained GloVe model with 100 dimensions\n",
    "glove_vectors_100d = api.load(\"glove-wiki-gigaword-100\")\n",
    "print(\"Dimensions of 100d GloVe vector:\", len(glove_vectors_100d['language']))"
   ]
  },
  {
   "cell_type": "code",
   "execution_count": null,
   "metadata": {},
   "outputs": [],
   "source": [
    "# Load the pre-trained GloVe model with 200 dimensions\n",
    "glove_vectors_200d = api.load(\"glove-wiki-gigaword-200\")\n",
    "print(\"Dimensions of 200d GloVe vector:\", len(glove_vectors_200d['language']))"
   ]
  },
  {
   "cell_type": "code",
   "execution_count": null,
   "metadata": {},
   "outputs": [],
   "source": [
    "# Load the pre-trained GloVe model with 300 dimensions\n",
    "glove_vectors_300d = api.load(\"glove-wiki-gigaword-300\")\n",
    "print(\"Dimensions of 300d GloVe vector:\", len(glove_vectors_300d['language']))"
   ]
  },
  {
   "cell_type": "code",
   "execution_count": null,
   "metadata": {},
   "outputs": [],
   "source": []
  }
 ],
 "metadata": {
  "kernelspec": {
   "display_name": "Python 3 (ipykernel)",
   "language": "python",
   "name": "python3"
  },
  "language_info": {
   "codemirror_mode": {
    "name": "ipython",
    "version": 3
   },
   "file_extension": ".py",
   "mimetype": "text/x-python",
   "name": "python",
   "nbconvert_exporter": "python",
   "pygments_lexer": "ipython3",
   "version": "3.11.5"
  }
 },
 "nbformat": 4,
 "nbformat_minor": 2
}
