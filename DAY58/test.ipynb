{
 "cells": [
  {
   "cell_type": "code",
   "execution_count": 2,
   "id": "0fabd259",
   "metadata": {},
   "outputs": [],
   "source": [
    "\n",
    "import cv2\n",
    "import numpy as np\n",
    "\n",
    "# read the image with the particular library which we have imported\n",
    "image = cv2.imread('traffic.jpg')\n",
    "\n",
    "if image is None:\n",
    "    print (\"Could not read the image\")\n",
    "    exit()\n",
    "\n",
    "# cv2.imshow(\"original image\",image)\n",
    "# cv2.waitKey(0)\n",
    "# cv2.destroyAllWindows()\n",
    "\n",
    "\n",
    "# # convert to grayscale\n",
    "grey_image = cv2.cvtColor(image,cv2.COLOR_BGR2GRAY)\n",
    "# cv2.imshow(\"grayscale image\",grey_image)\n",
    "# cv2.waitKey(0)\n",
    "# cv2.destroyAllWindows()\n",
    "\n",
    "# WE APPLY A GAUSSIAN bLUR INTO THE ABOVE IMAGE\n",
    "blurred_image = cv2.GaussianBlur(grey_image,(5,5),0)\n",
    "# cv2.imshow('Blur image',blurred_image)\n",
    "cv2.waitKey(0)\n",
    "cv2.destroyAllWindows()\n",
    "\n",
    "\n",
    "# edge detection by using canny in cv2\n",
    "edges = cv2.Canny(blurred_image,50,150)\n",
    "\n",
    "# original Image\n",
    "cv2.imshow(\"original image\",image)\n",
    "cv2.waitKey(0)\n",
    "\n",
    "cv2.imshow(\"Greyscale image\",grey_image)\n",
    "cv2.waitKey(0)\n",
    "\n",
    "cv2.imshow(\"Blurred image\",blurred_image)\n",
    "cv2.waitKey(0)\n",
    "\n",
    "cv2.imshow(\"Edge\",edges)\n",
    "cv2.waitKey(0)\n",
    "\n",
    "cv2.destroyAllWindows()\n"
   ]
  },
  {
   "cell_type": "code",
   "execution_count": null,
   "id": "5934bdbc",
   "metadata": {},
   "outputs": [],
   "source": []
  }
 ],
 "metadata": {
  "kernelspec": {
   "display_name": "Python 3 (ipykernel)",
   "language": "python",
   "name": "python3"
  },
  "language_info": {
   "codemirror_mode": {
    "name": "ipython",
    "version": 3
   },
   "file_extension": ".py",
   "mimetype": "text/x-python",
   "name": "python",
   "nbconvert_exporter": "python",
   "pygments_lexer": "ipython3",
   "version": "3.11.5"
  }
 },
 "nbformat": 4,
 "nbformat_minor": 5
}
