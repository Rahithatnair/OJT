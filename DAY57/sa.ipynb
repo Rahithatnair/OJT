{
 "cells": [
  {
   "cell_type": "code",
   "execution_count": 1,
   "id": "ac5b4dc6",
   "metadata": {},
   "outputs": [
    {
     "name": "stdout",
     "output_type": "stream",
     "text": [
      "Epoch 1/5\n",
      "\u001b[1m1/1\u001b[0m \u001b[32m━━━━━━━━━━━━━━━━━━━━\u001b[0m\u001b[37m\u001b[0m \u001b[1m2s\u001b[0m 2s/step - accuracy: 0.0000e+00 - loss: 1.1074\n",
      "Epoch 2/5\n",
      "\u001b[1m1/1\u001b[0m \u001b[32m━━━━━━━━━━━━━━━━━━━━\u001b[0m\u001b[37m\u001b[0m \u001b[1m0s\u001b[0m 69ms/step - accuracy: 0.2500 - loss: 1.1060\n",
      "Epoch 3/5\n",
      "\u001b[1m1/1\u001b[0m \u001b[32m━━━━━━━━━━━━━━━━━━━━\u001b[0m\u001b[37m\u001b[0m \u001b[1m0s\u001b[0m 59ms/step - accuracy: 1.0000 - loss: 1.0648\n",
      "Epoch 4/5\n",
      "\u001b[1m1/1\u001b[0m \u001b[32m━━━━━━━━━━━━━━━━━━━━\u001b[0m\u001b[37m\u001b[0m \u001b[1m0s\u001b[0m 63ms/step - accuracy: 0.2500 - loss: 1.1031\n",
      "Epoch 5/5\n",
      "\u001b[1m1/1\u001b[0m \u001b[32m━━━━━━━━━━━━━━━━━━━━\u001b[0m\u001b[37m\u001b[0m \u001b[1m0s\u001b[0m 65ms/step - accuracy: 0.5000 - loss: 1.0749\n",
      "\u001b[1m1/1\u001b[0m \u001b[32m━━━━━━━━━━━━━━━━━━━━\u001b[0m\u001b[37m\u001b[0m \u001b[1m0s\u001b[0m 169ms/step\n",
      "predicted sentiment of the sentence: 0\n"
     ]
    }
   ],
   "source": [
    "import numpy as np\n",
    "from tensorflow.keras.models import Sequential\n",
    "from tensorflow.keras.layers import Embedding, LSTM, Dense, Dropout\n",
    "from tensorflow.keras.preprocessing.text import Tokenizer\n",
    "from tensorflow.keras.preprocessing.sequence import pad_sequences\n",
    "\n",
    "# data\n",
    "sentences = [\n",
    "    \"i love my bike\",\n",
    "    \"i had a worst experience in service\",\n",
    "    \"it was ok, but nothing special\",\n",
    "    \"the  service consultant was terrible.\"\n",
    "]\n",
    "# positive =1, negative=0, neutral=2\n",
    "labels = [1, 0, 2, 0]\n",
    "\n",
    "# tokenization and the padding of sequences\n",
    "tokenizer = Tokenizer(num_words=1000, oov_token='<OOV>')\n",
    "tokenizer.fit_on_texts(sentences)\n",
    "word_index = tokenizer.word_index\n",
    "\n",
    "# sequences\n",
    "sequences = tokenizer.texts_to_sequences(sentences)\n",
    "padded = pad_sequences(sequences, maxlen=100, padding='post')\n",
    "\n",
    "# create the model for the above\n",
    "model = Sequential([\n",
    "    Embedding(input_dim=1000, output_dim=64),\n",
    "    LSTM(64, return_sequences=False),\n",
    "    Dropout(0.5),\n",
    "    Dense(3, activation='softmax')\n",
    "])\n",
    "\n",
    "# compile can be done for the model\n",
    "model.compile(loss='sparse_categorical_crossentropy', optimizer='adam', metrics=['accuracy'])\n",
    "\n",
    "model.fit(padded, np.array(labels), epochs=5, verbose=1)\n",
    "\n",
    "# make the prediction\n",
    "test_sentences = [\"I enjoyed the film\"]\n",
    "test_seq = tokenizer.texts_to_sequences(test_sentences)\n",
    "test_padded = pad_sequences(test_seq, maxlen=100)\n",
    "prediction = model.predict(test_padded)\n",
    "predicted_class = np.argmax(prediction)\n",
    "\n",
    "print(f\"predicted sentiment of the sentence: {predicted_class}\")"
   ]
  },
  {
   "cell_type": "markdown",
   "id": "c28cf491",
   "metadata": {},
   "source": [
    "# Text classification"
   ]
  },
  {
   "cell_type": "code",
   "execution_count": 2,
   "id": "6741d344",
   "metadata": {},
   "outputs": [
    {
     "name": "stdout",
     "output_type": "stream",
     "text": [
      "request: my account is  blocked\n",
      " category: Technical support\n",
      "\n",
      "request: I need my last billing details\n",
      " category: Billing Issue\n",
      "\n",
      "request: I need to know the timing of my order\n",
      " category: other support\n",
      "\n"
     ]
    }
   ],
   "source": [
    "\n",
    "from ast import keyword\n",
    "#rule based text xclassification\n",
    "\n",
    "def classify_request(text):\n",
    "    text = text.lower()\n",
    "    \n",
    "    if  any(keyword in text for keyword in [\"billing\", \"invoice\", \"charge\"]):\n",
    "        return \"Billing Issue\"\n",
    "    elif any(keyword in text for keyword in [\"password\",\"access\",\"login\",\"account\"]):\n",
    "        return \"Technical support\"\n",
    "    elif any(keyword in text for keyword in [\"hour\",\"time\",\"location\",\"general\"]):\n",
    "        return \"general support\"\n",
    "    else:\n",
    "        return \"other support\"\n",
    "    \n",
    "    #test sample\n",
    "requestes=[\n",
    "        \"my account is  blocked\",\n",
    "        \"I need my last billing details\",\n",
    "        \"I need to know the timing of my order\"\n",
    "    ]\n",
    "for request in requestes:\n",
    "        category = classify_request(request)\n",
    "        print(f\"request: {request}\\n category: {category}\\n\")"
   ]
  },
  {
   "cell_type": "markdown",
   "id": "709312bd",
   "metadata": {},
   "source": [
    "# create a model with logistic regression and BoW for the text classification"
   ]
  },
  {
   "cell_type": "code",
   "execution_count": 3,
   "id": "a5e3a4bc",
   "metadata": {},
   "outputs": [
    {
     "name": "stdout",
     "output_type": "stream",
     "text": [
      "Accuracy: 0.00%\n",
      "prediction for the new review:1\n"
     ]
    }
   ],
   "source": [
    "import numpy as np\n",
    "from sklearn.feature_extraction.text import CountVectorizer\n",
    "from sklearn.linear_model import LogisticRegression\n",
    "from sklearn.metrics import accuracy_score\n",
    "from sklearn.model_selection import train_test_split\n",
    "\n",
    "#create sample data\n",
    "reviews=[\n",
    "    \"i love the movie,it was good\",\n",
    "    \"the movie was boring\",\n",
    "    \"excellent movie,actors done well\",\n",
    "    \"it was a normal movie,nothing special\"\n",
    "]\n",
    "#positive=1, negative=0, neutral=2\n",
    "labels=[1,0,1,2]\n",
    "#create vectorization for the above\n",
    "vectorizer=CountVectorizer()\n",
    "X=vectorizer.fit_transform(reviews)\n",
    "y=np.array(labels)\n",
    "x_train,x_test,y_train,y_test=train_test_split(X,y,test_size=0.2,random_state=42)\n",
    "\n",
    "#create our model\n",
    "model=LogisticRegression()\n",
    "model.fit(x_train,y_train)\n",
    "y_pred=model.predict(x_test)\n",
    "accuracy=accuracy_score(y_test,y_pred)\n",
    "print(f\"Accuracy: {accuracy*100:.2f}%\")\n",
    "\n",
    "#create a sample review for the prediction\n",
    "new_review = [\"i really enjoyed the movie\"]\n",
    "new_review_transformed=vectorizer.transform(new_review)\n",
    "new_review_prediction=model.predict(new_review_transformed)\n",
    "print(f\"prediction for the new review:{new_review_prediction[0]}\")"
   ]
  },
  {
   "cell_type": "code",
   "execution_count": null,
   "id": "b901b125",
   "metadata": {},
   "outputs": [],
   "source": []
  },
  {
   "cell_type": "code",
   "execution_count": null,
   "id": "d9e8bc3d",
   "metadata": {},
   "outputs": [],
   "source": []
  }
 ],
 "metadata": {
  "kernelspec": {
   "display_name": "Python 3 (ipykernel)",
   "language": "python",
   "name": "python3"
  },
  "language_info": {
   "codemirror_mode": {
    "name": "ipython",
    "version": 3
   },
   "file_extension": ".py",
   "mimetype": "text/x-python",
   "name": "python",
   "nbconvert_exporter": "python",
   "pygments_lexer": "ipython3",
   "version": "3.11.5"
  }
 },
 "nbformat": 4,
 "nbformat_minor": 5
}
